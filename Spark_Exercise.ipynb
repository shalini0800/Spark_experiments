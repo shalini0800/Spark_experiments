{
 "cells": [
  {
   "cell_type": "code",
   "execution_count": 4,
   "id": "0ee52fb3-d4b9-400e-9aef-6a270dd92445",
   "metadata": {
    "tags": []
   },
   "outputs": [
    {
     "name": "stdout",
     "output_type": "stream",
     "text": [
      "root\n",
      " |-- Product: string (nullable = true)\n",
      " |-- ID: integer (nullable = true)\n",
      " |-- Date: date (nullable = true)\n",
      " |-- Timestamp: timestamp (nullable = true)\n",
      " |-- Price: float (nullable = true)\n",
      "\n",
      "+---------+----+----------+-------------------+-----+\n",
      "|  Product|  ID|      Date|          Timestamp|Price|\n",
      "+---------+----+----------+-------------------+-----+\n",
      "|Product A|1001|2023-07-20|2023-07-20 10:15:30|29.99|\n",
      "|Product B|1002|2023-07-19|2023-07-19 14:20:45|49.99|\n",
      "|Product C|1003|2023-07-18|2023-07-18 09:30:15|39.99|\n",
      "|Product D|1004|2023-07-17|2023-07-17 16:45:00|19.99|\n",
      "+---------+----+----------+-------------------+-----+\n",
      "\n"
     ]
    }
   ],
   "source": [
    "from pyspark.sql import SparkSession\n",
    "from pyspark.sql.types import *\n",
    "from datetime import datetime\n",
    "\n",
    "# Create Spark session\n",
    "spark = SparkSession.builder \\\n",
    "    .appName(\"Spark with Hive\") \\\n",
    "    .enableHiveSupport() \\\n",
    "    .getOrCreate()\n",
    "\n",
    "data = [\n",
    "    [\"Product A\", 1001, datetime.strptime(\"2023-07-20\", \"%Y-%m-%d\"), datetime.strptime(\"2023-07-20 10:15:30\", \"%Y-%m-%d %H:%M:%S\"), 29.99],\n",
    "    [\"Product B\", 1002, datetime.strptime(\"2023-07-19\", \"%Y-%m-%d\"), datetime.strptime(\"2023-07-19 14:20:45\", \"%Y-%m-%d %H:%M:%S\"), 49.99],\n",
    "    [\"Product C\", 1003, datetime.strptime(\"2023-07-18\", \"%Y-%m-%d\"), datetime.strptime(\"2023-07-18 09:30:15\", \"%Y-%m-%d %H:%M:%S\"), 39.99],\n",
    "    [\"Product D\", 1004, datetime.strptime(\"2023-07-17\", \"%Y-%m-%d\"), datetime.strptime(\"2023-07-17 16:45:00\", \"%Y-%m-%d %H:%M:%S\"), 19.99]\n",
    "]\n",
    "\n",
    "# Define schema\n",
    "schema = StructType([\n",
    "    StructField(\"Product\", StringType(), True),\n",
    "    StructField(\"ID\", IntegerType(), True),\n",
    "    StructField(\"Date\", DateType(), True),\n",
    "    StructField(\"Timestamp\", TimestampType(), True),\n",
    "    StructField(\"Price\", FloatType(), True)\n",
    "])\n",
    "\n",
    "df = spark.createDataFrame(data, schema)\n",
    "\n",
    "df.printSchema()\n",
    "\n",
    "df.show()"
   ]
  },
  {
   "cell_type": "code",
   "execution_count": null,
   "id": "392efcb0-3071-4ab1-99cc-d4630397a914",
   "metadata": {
    "tags": []
   },
   "outputs": [
    {
     "name": "stdout",
     "output_type": "stream",
     "text": [
      "root\n",
      " |-- OrderID: string (nullable = true)\n",
      " |-- OrderItemID: integer (nullable = true)\n",
      " |-- ProductID: string (nullable = true)\n",
      " |-- SellerID: string (nullable = true)\n",
      " |-- ShippingLimitDate: timestamp (nullable = true)\n",
      " |-- Price: double (nullable = true)\n",
      " |-- FreightValue: double (nullable = true)\n",
      "\n"
     ]
    },
    {
     "name": "stderr",
     "output_type": "stream",
     "text": [
      "[Stage 9:>                                                          (0 + 1) / 1]\r"
     ]
    },
    {
     "name": "stdout",
     "output_type": "stream",
     "text": [
      "+--------------------+-----------+--------------------+--------------------+-------------------+-----+------------+\n",
      "|             OrderID|OrderItemID|           ProductID|            SellerID|  ShippingLimitDate|Price|FreightValue|\n",
      "+--------------------+-----------+--------------------+--------------------+-------------------+-----+------------+\n",
      "|00010242fe8c5a6d1...|          1|4244733e06e7ecb49...|48436dade18ac8b2b...|2017-09-19 09:45:35| 58.9|       13.29|\n",
      "|00018f77f2f0320c5...|          1|e5f2d52b802189ee6...|dd7ddc04e1b6c2c61...|2017-05-03 11:05:13|239.9|       19.93|\n",
      "|000229ec398224ef6...|          1|c777355d18b72b67a...|5b51032eddd242adc...|2018-01-18 14:48:30|199.0|       17.87|\n",
      "|00024acbcdf0a6daa...|          1|7634da152a4610f15...|9d7a1d34a50524090...|2018-08-15 10:10:18|12.99|       12.79|\n",
      "|00042b26cf59d7ce6...|          1|ac6c3623068f30de0...|df560393f3a51e745...|2017-02-13 13:57:51|199.9|       18.14|\n",
      "+--------------------+-----------+--------------------+--------------------+-------------------+-----+------------+\n",
      "only showing top 5 rows\n",
      "\n"
     ]
    },
    {
     "name": "stderr",
     "output_type": "stream",
     "text": [
      "                                                                                \r"
     ]
    }
   ],
   "source": [
    "# First read example should not infer schema, ignore header row, provide explicit column name and datatype\n",
    "\n",
    "# Define schema\n",
    "schema = StructType([\n",
    "    StructField(\"OrderID\", StringType(), True),\n",
    "    StructField(\"OrderItemID\", IntegerType(), True),\n",
    "    StructField(\"ProductID\", StringType(), True),\n",
    "    StructField(\"SellerID\", StringType(), True),\n",
    "    StructField(\"ShippingLimitDate\", TimestampType(), True),\n",
    "    StructField(\"Price\", DoubleType(), True),\n",
    "    StructField(\"FreightValue\", DoubleType(), True)\n",
    "])\n",
    "\n",
    "hdfs_path = '/tmp/spark_datasets/order_items_dataset.csv'\n",
    "\n",
    "df = spark.read.format('csv').option('header', 'true').option('inferSchema', 'false').schema(schema).load(hdfs_path)\n",
    "\n",
    "df.printSchema()\n",
    "\n",
    "df.show(5)"
   ]
  },
  {
   "cell_type": "code",
   "execution_count": null,
   "id": "87d5fffa-a18f-45fd-b0ea-22b7b30b66a3",
   "metadata": {
    "tags": []
   },
   "outputs": [
    {
     "name": "stderr",
     "output_type": "stream",
     "text": [
      "                                                                                \r"
     ]
    },
    {
     "name": "stdout",
     "output_type": "stream",
     "text": [
      "root\n",
      " |-- order_id: string (nullable = true)\n",
      " |-- order_item_id: integer (nullable = true)\n",
      " |-- product_id: string (nullable = true)\n",
      " |-- seller_id: string (nullable = true)\n",
      " |-- shipping_limit_date: timestamp (nullable = true)\n",
      " |-- price: double (nullable = true)\n",
      " |-- freight_value: double (nullable = true)\n",
      "\n",
      "+--------------------+-------------+--------------------+--------------------+-------------------+------+-------------+\n",
      "|            order_id|order_item_id|          product_id|           seller_id|shipping_limit_date| price|freight_value|\n",
      "+--------------------+-------------+--------------------+--------------------+-------------------+------+-------------+\n",
      "|00010242fe8c5a6d1...|            1|4244733e06e7ecb49...|48436dade18ac8b2b...|2017-09-19 09:45:35|  58.9|        13.29|\n",
      "|00018f77f2f0320c5...|            1|e5f2d52b802189ee6...|dd7ddc04e1b6c2c61...|2017-05-03 11:05:13| 239.9|        19.93|\n",
      "|000229ec398224ef6...|            1|c777355d18b72b67a...|5b51032eddd242adc...|2018-01-18 14:48:30| 199.0|        17.87|\n",
      "|00024acbcdf0a6daa...|            1|7634da152a4610f15...|9d7a1d34a50524090...|2018-08-15 10:10:18| 12.99|        12.79|\n",
      "|00042b26cf59d7ce6...|            1|ac6c3623068f30de0...|df560393f3a51e745...|2017-02-13 13:57:51| 199.9|        18.14|\n",
      "|00048cc3ae777c65d...|            1|ef92defde845ab845...|6426d21aca402a131...|2017-05-23 03:55:27|  21.9|        12.69|\n",
      "|00054e8431b9d7675...|            1|8d4f2bb7e93e6710a...|7040e82f899a04d1b...|2017-12-14 12:10:31|  19.9|        11.85|\n",
      "|000576fe39319847c...|            1|557d850972a7d6f79...|5996cddab893a4652...|2018-07-10 12:30:45| 810.0|        70.75|\n",
      "|0005a1a1728c9d785...|            1|310ae3c140ff94b03...|a416b6a846a117243...|2018-03-26 18:31:29|145.95|        11.65|\n",
      "|0005f50442cb953dc...|            1|4535b0e1091c278df...|ba143b05f0110f0dc...|2018-07-06 14:10:56| 53.99|         11.4|\n",
      "|00061f2a7bc09da83...|            1|d63c1011f49d98b97...|cc419e0650a3c5ba7...|2018-03-29 22:28:09| 59.99|         8.88|\n",
      "|00063b381e2406b52...|            1|f177554ea93259a5b...|8602a61d680a10a82...|2018-07-31 17:30:39|  45.0|        12.98|\n",
      "|0006ec9db01a64e59...|            1|99a4788cb24856965...|4a3ca9315b744ce9f...|2018-07-26 17:24:20|  74.0|        23.32|\n",
      "|0008288aa423d2a3f...|            1|368c6c730842d7801...|1f50f920176fa81da...|2018-02-21 02:55:52|  49.9|        13.37|\n",
      "|0008288aa423d2a3f...|            2|368c6c730842d7801...|1f50f920176fa81da...|2018-02-21 02:55:52|  49.9|        13.37|\n",
      "|0009792311464db53...|            1|8cab8abac59158715...|530ec6109d11eaaf8...|2018-08-17 12:15:10|  99.9|        27.65|\n",
      "|0009c9a17f916a706...|            1|3f27ac8e699df3d30...|fcb5ace8bcc92f757...|2018-05-02 09:31:53| 639.0|        11.34|\n",
      "|000aed2e25dbad2f9...|            1|4fa33915031a8cde0...|fe2032dab1a61af87...|2018-05-16 20:57:03| 144.0|         8.77|\n",
      "|000c3e6612759851c...|            1|b50c950aba0dcead2...|218d46b86c1881d02...|2017-08-21 03:33:13|  99.0|        13.71|\n",
      "|000e562887b1f2006...|            1|5ed9eaf534f6936b5...|8cbac7e12637ed9cf...|2018-02-28 12:08:37|  25.0|        16.11|\n",
      "+--------------------+-------------+--------------------+--------------------+-------------------+------+-------------+\n",
      "only showing top 20 rows\n",
      "\n"
     ]
    },
    {
     "name": "stderr",
     "output_type": "stream",
     "text": [
      "                                                                                \r"
     ]
    }
   ],
   "source": [
    "\n",
    "# Second read example should infer schema, ignore header row\n",
    "\n",
    "hdfs_path = '/tmp/spark_datasets/order_items_dataset.csv'\n",
    "\n",
    "# File path pattern if we are reading from different hadoop cluster\n",
    "# hdfs_path = 'hdfs://<namenode_host_ip_address>:<port>/tmp/spark_datasets/order_items_dataset.csv'\n",
    "\n",
    "df = spark.read.format('csv').option('header','true').option('inferSchema','true').load(hdfs_path)\n",
    "\n",
    "df.printSchema()\n",
    "\n",
    "df.show()"
   ]
  },
  {
   "cell_type": "code",
   "execution_count": null,
   "id": "89dde41c-bbbb-4935-975e-2f385d1a674a",
   "metadata": {
    "tags": []
   },
   "outputs": [
    {
     "name": "stdout",
     "output_type": "stream",
     "text": [
      "2\n"
     ]
    }
   ],
   "source": [
    "# check default number of partitions\n",
    "print(spark.sparkContext.defaultParallelism)"
   ]
  },
  {
   "cell_type": "code",
   "execution_count": null,
   "id": "8633585e-7a2b-47e3-a78c-ffab12f2dd0d",
   "metadata": {
    "tags": []
   },
   "outputs": [
    {
     "name": "stdout",
     "output_type": "stream",
     "text": [
      "134217728b\n"
     ]
    }
   ],
   "source": [
    "# check default size of each partition\n",
    "print(spark.conf.get(\"spark.sql.files.maxPartitionBytes\"))"
   ]
  },
  {
   "cell_type": "code",
   "execution_count": 10,
   "id": "85ba13ea-d6d5-48b8-8ff8-52dc7fc74a1a",
   "metadata": {
    "tags": []
   },
   "outputs": [
    {
     "name": "stdout",
     "output_type": "stream",
     "text": [
      "Number of partitions: 2\n"
     ]
    },
    {
     "name": "stderr",
     "output_type": "stream",
     "text": [
      "[Stage 10:=============================>                            (1 + 1) / 2]\r"
     ]
    },
    {
     "name": "stdout",
     "output_type": "stream",
     "text": [
      "Number of partitions: 5\n"
     ]
    }
   ],
   "source": [
    "print(f'Number of partitions: {df.rdd.getNumPartitions()}')\n",
    "\n",
    "df_new = df.repartition(5)\n",
    "\n",
    "print(f'Number of partitions: {df_new.rdd.getNumPartitions()}')"
   ]
  },
  {
   "cell_type": "code",
   "execution_count": null,
   "id": "05607654-9844-4805-8c74-6cd8b2845c62",
   "metadata": {
    "tags": []
   },
   "outputs": [
    {
     "name": "stdout",
     "output_type": "stream",
     "text": [
      "+--------------------+\n",
      "|            order_id|\n",
      "+--------------------+\n",
      "|00010242fe8c5a6d1...|\n",
      "|00018f77f2f0320c5...|\n",
      "|000229ec398224ef6...|\n",
      "|00024acbcdf0a6daa...|\n",
      "|00042b26cf59d7ce6...|\n",
      "+--------------------+\n",
      "only showing top 5 rows\n",
      "\n",
      "+--------------------+-------------------+\n",
      "|            order_id|shipping_limit_date|\n",
      "+--------------------+-------------------+\n",
      "|00010242fe8c5a6d1...|2017-09-19 09:45:35|\n",
      "|00018f77f2f0320c5...|2017-05-03 11:05:13|\n",
      "|000229ec398224ef6...|2018-01-18 14:48:30|\n",
      "|00024acbcdf0a6daa...|2018-08-15 10:10:18|\n",
      "|00042b26cf59d7ce6...|2017-02-13 13:57:51|\n",
      "+--------------------+-------------------+\n",
      "only showing top 5 rows\n",
      "\n",
      "+--------------------+-------------------+\n",
      "|            order_id|shipping_limit_date|\n",
      "+--------------------+-------------------+\n",
      "|00010242fe8c5a6d1...|2017-09-19 09:45:35|\n",
      "|00018f77f2f0320c5...|2017-05-03 11:05:13|\n",
      "|000229ec398224ef6...|2018-01-18 14:48:30|\n",
      "|00024acbcdf0a6daa...|2018-08-15 10:10:18|\n",
      "|00042b26cf59d7ce6...|2017-02-13 13:57:51|\n",
      "+--------------------+-------------------+\n",
      "only showing top 5 rows\n",
      "\n",
      "+--------------------+-------------------+\n",
      "|                 oid|         limit_date|\n",
      "+--------------------+-------------------+\n",
      "|00010242fe8c5a6d1...|2017-09-19 09:45:35|\n",
      "|00018f77f2f0320c5...|2017-05-03 11:05:13|\n",
      "|000229ec398224ef6...|2018-01-18 14:48:30|\n",
      "|00024acbcdf0a6daa...|2018-08-15 10:10:18|\n",
      "|00042b26cf59d7ce6...|2017-02-13 13:57:51|\n",
      "+--------------------+-------------------+\n",
      "only showing top 5 rows\n",
      "\n"
     ]
    }
   ],
   "source": [
    "# Select columns in different options\n",
    "\n",
    "from pyspark.sql.functions import *\n",
    "\n",
    "df.select('order_id').show(5)\n",
    "\n",
    "df.select('order_id', 'shipping_limit_date').show(5)\n",
    "\n",
    "df.select(col('order_id'), col('shipping_limit_date')).show(5)\n",
    "\n",
    "df.select(col('order_id').alias('oid'), col('shipping_limit_date').alias('limit_date')).show(5)"
   ]
  },
  {
   "cell_type": "code",
   "execution_count": null,
   "id": "dcc64cb1-99b1-483e-b4b6-6d206e4dd80d",
   "metadata": {
    "tags": []
   },
   "outputs": [
    {
     "name": "stdout",
     "output_type": "stream",
     "text": [
      "+--------------------+-------------------+----+-----+\n",
      "|            order_id|shipping_limit_date|year|month|\n",
      "+--------------------+-------------------+----+-----+\n",
      "|00010242fe8c5a6d1...|2017-09-19 09:45:35|2017|    9|\n",
      "|00018f77f2f0320c5...|2017-05-03 11:05:13|2017|    5|\n",
      "|000229ec398224ef6...|2018-01-18 14:48:30|2018|    1|\n",
      "|00024acbcdf0a6daa...|2018-08-15 10:10:18|2018|    8|\n",
      "|00042b26cf59d7ce6...|2017-02-13 13:57:51|2017|    2|\n",
      "+--------------------+-------------------+----+-----+\n",
      "only showing top 5 rows\n",
      "\n"
     ]
    }
   ],
   "source": [
    "# Derive new column using withColumn\n",
    "\n",
    "df2 = df.withColumn(\"year\", year(col(\"shipping_limit_date\"))).withColumn(\"month\", month(col(\"shipping_limit_date\")))\n",
    "\n",
    "df2.select(\"order_id\", \"shipping_limit_date\", \"year\", \"month\").show(5)"
   ]
  },
  {
   "cell_type": "code",
   "execution_count": null,
   "id": "65a30240-aa6d-416a-958c-4efc2d4d27fd",
   "metadata": {
    "tags": []
   },
   "outputs": [
    {
     "name": "stdout",
     "output_type": "stream",
     "text": [
      "+--------------------+-----------------------+\n",
      "|            order_id|shipping_limit_datetime|\n",
      "+--------------------+-----------------------+\n",
      "|00010242fe8c5a6d1...|    2017-09-19 09:45:35|\n",
      "|00018f77f2f0320c5...|    2017-05-03 11:05:13|\n",
      "|000229ec398224ef6...|    2018-01-18 14:48:30|\n",
      "|00024acbcdf0a6daa...|    2018-08-15 10:10:18|\n",
      "|00042b26cf59d7ce6...|    2017-02-13 13:57:51|\n",
      "+--------------------+-----------------------+\n",
      "only showing top 5 rows\n",
      "\n"
     ]
    }
   ],
   "source": [
    "# Rename existing column using withColumnRenamed\n",
    "\n",
    "df3 = df2.withColumnRenamed('shipping_limit_date', 'shipping_limit_datetime')\n",
    "\n",
    "df3.select(\"order_id\", \"shipping_limit_datetime\").show(5)"
   ]
  },
  {
   "cell_type": "code",
   "execution_count": null,
   "id": "174b1b17-cdd6-43a7-99b3-da22292d5f39",
   "metadata": {
    "tags": []
   },
   "outputs": [
    {
     "name": "stdout",
     "output_type": "stream",
     "text": [
      "+--------------------+-------------+--------------------+--------------------+-----------------------+-----+-------------+----+-----+\n",
      "|            order_id|order_item_id|          product_id|           seller_id|shipping_limit_datetime|price|freight_value|year|month|\n",
      "+--------------------+-------------+--------------------+--------------------+-----------------------+-----+-------------+----+-----+\n",
      "|00010242fe8c5a6d1...|            1|4244733e06e7ecb49...|48436dade18ac8b2b...|    2017-09-19 09:45:35| 58.9|        13.29|2017|    9|\n",
      "+--------------------+-------------+--------------------+--------------------+-----------------------+-----+-------------+----+-----+\n",
      "\n",
      "+--------------------+-------------+--------------------+--------------------+-----------------------+-----+-------------+----+-----+\n",
      "|            order_id|order_item_id|          product_id|           seller_id|shipping_limit_datetime|price|freight_value|year|month|\n",
      "+--------------------+-------------+--------------------+--------------------+-----------------------+-----+-------------+----+-----+\n",
      "|00010242fe8c5a6d1...|            1|4244733e06e7ecb49...|48436dade18ac8b2b...|    2017-09-19 09:45:35| 58.9|        13.29|2017|    9|\n",
      "|00018f77f2f0320c5...|            1|e5f2d52b802189ee6...|dd7ddc04e1b6c2c61...|    2017-05-03 11:05:13|239.9|        19.93|2017|    5|\n",
      "+--------------------+-------------+--------------------+--------------------+-----------------------+-----+-------------+----+-----+\n",
      "\n",
      "+--------------------+-------------+--------------------+--------------------+-----------------------+-----+-------------+----+-----+\n",
      "|            order_id|order_item_id|          product_id|           seller_id|shipping_limit_datetime|price|freight_value|year|month|\n",
      "+--------------------+-------------+--------------------+--------------------+-----------------------+-----+-------------+----+-----+\n",
      "|000e63d38ae8c00bb...|            1|553e0e7590d3116a0...|1c129092bf23f28a5...|    2018-03-29 20:07:49| 47.9|         8.88|2018|    3|\n",
      "|00130c0eee84a3d90...|            1|89321f94e35fc6d79...|16090f2ca825584b5...|    2018-06-14 05:16:24| 27.9|         7.94|2018|    6|\n",
      "|001d8f0e34a38c37f...|            1|e67307ff0f15ade43...|f4aba7c0bca51484c...|    2017-05-18 17:35:11|18.99|         7.78|2017|    5|\n",
      "|001d8f0e34a38c37f...|            2|e67307ff0f15ade43...|f4aba7c0bca51484c...|    2017-05-18 17:35:11|18.99|         7.78|2017|    5|\n",
      "|002f98c0f7efd4263...|            2|880be32f4db1d9f6e...|fa40cc5b934574b62...|    2017-08-10 09:30:15| 44.9|         7.16|2017|    8|\n",
      "+--------------------+-------------+--------------------+--------------------+-----------------------+-----+-------------+----+-----+\n",
      "only showing top 5 rows\n",
      "\n"
     ]
    }
   ],
   "source": [
    "# Filter condition\n",
    "\n",
    "df3.filter( col('order_id') == '00010242fe8c5a6d1ba2dd792cb16214' ).show(5)\n",
    "\n",
    "order_ids = ['00010242fe8c5a6d1ba2dd792cb16214','00018f77f2f0320c557190d7a144bdd3']\n",
    "\n",
    "df3.filter( col('order_id').isin(order_ids) ).show(5)\n",
    "\n",
    "df3.filter( (col('price') < 50) & (col(\"freight_value\")  < 10) ).show(5)\n",
    "\n",
    "# SQL Type Expression\n",
    "df3.filter(\"price < 50 and freight_value  < 10\").show(5)"
   ]
  },
  {
   "cell_type": "code",
   "execution_count": null,
   "id": "cd75d19b-d574-475f-b9d5-1d70ff2b6edf",
   "metadata": {
    "tags": []
   },
   "outputs": [
    {
     "name": "stdout",
     "output_type": "stream",
     "text": [
      "+--------------------+-------------+--------------------+--------------------+-----------------------+-----+-------------+----+\n",
      "|            order_id|order_item_id|          product_id|           seller_id|shipping_limit_datetime|price|freight_value|year|\n",
      "+--------------------+-------------+--------------------+--------------------+-----------------------+-----+-------------+----+\n",
      "|00010242fe8c5a6d1...|            1|4244733e06e7ecb49...|48436dade18ac8b2b...|    2017-09-19 09:45:35| 58.9|        13.29|2017|\n",
      "|00018f77f2f0320c5...|            1|e5f2d52b802189ee6...|dd7ddc04e1b6c2c61...|    2017-05-03 11:05:13|239.9|        19.93|2017|\n",
      "|000229ec398224ef6...|            1|c777355d18b72b67a...|5b51032eddd242adc...|    2018-01-18 14:48:30|199.0|        17.87|2018|\n",
      "|00024acbcdf0a6daa...|            1|7634da152a4610f15...|9d7a1d34a50524090...|    2018-08-15 10:10:18|12.99|        12.79|2018|\n",
      "|00042b26cf59d7ce6...|            1|ac6c3623068f30de0...|df560393f3a51e745...|    2017-02-13 13:57:51|199.9|        18.14|2017|\n",
      "+--------------------+-------------+--------------------+--------------------+-----------------------+-----+-------------+----+\n",
      "only showing top 5 rows\n",
      "\n"
     ]
    }
   ],
   "source": [
    "# Example to drop a column\n",
    "\n",
    "df3.drop('month').show(5)"
   ]
  },
  {
   "cell_type": "code",
   "execution_count": null,
   "id": "25995432-acb6-4798-b3fe-3854d400726c",
   "metadata": {
    "tags": []
   },
   "outputs": [
    {
     "name": "stderr",
     "output_type": "stream",
     "text": [
      "[Stage 44:>                                                         (0 + 1) / 1]\r"
     ]
    },
    {
     "name": "stdout",
     "output_type": "stream",
     "text": [
      "+--------------------+-------------+--------------------+--------------------+-----------------------+------+-------------+----+-----+\n",
      "|            order_id|order_item_id|          product_id|           seller_id|shipping_limit_datetime| price|freight_value|year|month|\n",
      "+--------------------+-------------+--------------------+--------------------+-----------------------+------+-------------+----+-----+\n",
      "|00018f77f2f0320c5...|            1|e5f2d52b802189ee6...|dd7ddc04e1b6c2c61...|    2017-05-03 11:05:13| 239.9|        19.93|2017|    5|\n",
      "|000229ec398224ef6...|            1|c777355d18b72b67a...|5b51032eddd242adc...|    2018-01-18 14:48:30| 199.0|        17.87|2018|    1|\n",
      "|00048cc3ae777c65d...|            1|ef92defde845ab845...|6426d21aca402a131...|    2017-05-23 03:55:27|  21.9|        12.69|2017|    5|\n",
      "|0005a1a1728c9d785...|            1|310ae3c140ff94b03...|a416b6a846a117243...|    2018-03-26 18:31:29|145.95|        11.65|2018|    3|\n",
      "|0005f50442cb953dc...|            1|4535b0e1091c278df...|ba143b05f0110f0dc...|    2018-07-06 14:10:56| 53.99|         11.4|2018|    7|\n",
      "+--------------------+-------------+--------------------+--------------------+-----------------------+------+-------------+----+-----+\n",
      "only showing top 5 rows\n",
      "\n"
     ]
    },
    {
     "name": "stderr",
     "output_type": "stream",
     "text": [
      "                                                                                \r"
     ]
    }
   ],
   "source": [
    "#drop duplicates row based on multiple columns\n",
    "\n",
    "df3.dropDuplicates(['order_id', 'order_item_id']).show(5)\n",
    "\n",
    "# order_id , order_item_id, c1, c2\n",
    "#   1      ,    2        , A , B\n",
    "#   1      ,    2        , A , B\n",
    "#   1      ,    2        , C , D\n",
    "#   1      ,    3        , E , F\n",
    "\n",
    "# order_id , order_item_id, c1, c2\n",
    "#   1      ,    2        , A , B\n",
    "#   1      ,    3        , E , F"
   ]
  },
  {
   "cell_type": "code",
   "execution_count": null,
   "id": "1e344297-7293-4072-8141-78dc0afdb111",
   "metadata": {},
   "outputs": [],
   "source": [
    "# get distinct rows\n",
    "\n",
    "df3.dropDuplicates().show(5)"
   ]
  },
  {
   "cell_type": "code",
   "execution_count": null,
   "id": "bd2e7739-7ff7-4423-bfcf-938b5fa11823",
   "metadata": {
    "tags": []
   },
   "outputs": [
    {
     "name": "stderr",
     "output_type": "stream",
     "text": [
      "                                                                                \r"
     ]
    },
    {
     "name": "stdout",
     "output_type": "stream",
     "text": [
      "+--------------------+-------------+--------------------+--------------------+-----------------------+------+-------------+----+-----+\n",
      "|            order_id|order_item_id|          product_id|           seller_id|shipping_limit_datetime| price|freight_value|year|month|\n",
      "+--------------------+-------------+--------------------+--------------------+-----------------------+------+-------------+----+-----+\n",
      "|0812eb902a67711a1...|            1|489ae2aa008f02150...|e3b4998c7a498169d...|    2017-02-16 20:37:36|6735.0|       194.31|2017|    2|\n",
      "|fefacc66af859508b...|            1|69c590f7ffc7bf8db...|80ceebb4ee9b31afb...|    2018-08-02 04:05:13|6729.0|       193.21|2018|    8|\n",
      "|f5136e38d1a14a4db...|            1|1bdf5e6731585cf01...|ee27a8f15b1dded4d...|    2017-06-15 02:45:17|6499.0|       227.66|2017|    6|\n",
      "|a96610ab360d42a2e...|            1|a6492cc69376c469a...|59417c56835dd8e2e...|    2017-04-18 13:25:18|4799.0|       151.34|2017|    4|\n",
      "|199af31afc78c699f...|            1|c3ed642d592594bb6...|59417c56835dd8e2e...|    2017-05-09 15:50:15|4690.0|        74.34|2017|    5|\n",
      "+--------------------+-------------+--------------------+--------------------+-----------------------+------+-------------+----+-----+\n",
      "only showing top 5 rows\n",
      "\n"
     ]
    },
    {
     "name": "stderr",
     "output_type": "stream",
     "text": [
      "[Stage 49:=============================>                            (1 + 1) / 2]\r"
     ]
    },
    {
     "name": "stdout",
     "output_type": "stream",
     "text": [
      "+--------------------+-------------+--------------------+--------------------+-----------------------+-----+-------------+----+-----+\n",
      "|            order_id|order_item_id|          product_id|           seller_id|shipping_limit_datetime|price|freight_value|year|month|\n",
      "+--------------------+-------------+--------------------+--------------------+-----------------------+-----+-------------+----+-----+\n",
      "|c5bdd8ef3c0ec4202...|            2|8a3254bee785a526d...|96804ea39d96eb908...|    2018-05-07 02:55:22| 0.85|         22.3|2018|    5|\n",
      "|6e864b3f0ec710311...|            1|8a3254bee785a526d...|96804ea39d96eb908...|    2018-05-02 20:30:34| 0.85|        18.23|2018|    5|\n",
      "|3ee6513ae7ea23bdf...|            1|8a3254bee785a526d...|96804ea39d96eb908...|    2018-05-04 03:55:26| 0.85|        18.23|2018|    5|\n",
      "|8272b63d03f5f79c5...|            4|05b515fdc76e888aa...|2709af9587499e95e...|    2017-07-21 18:25:23|  1.2|         7.89|2017|    7|\n",
      "|8272b63d03f5f79c5...|            2|05b515fdc76e888aa...|2709af9587499e95e...|    2017-07-21 18:25:23|  1.2|         7.89|2017|    7|\n",
      "+--------------------+-------------+--------------------+--------------------+-----------------------+-----+-------------+----+-----+\n",
      "only showing top 5 rows\n",
      "\n"
     ]
    },
    {
     "name": "stderr",
     "output_type": "stream",
     "text": [
      "                                                                                \r"
     ]
    }
   ],
   "source": [
    "# arrange data using order by\n",
    "\n",
    "df3.orderBy( col('price').desc() ).show(5)\n",
    "\n",
    "df3.orderBy( col('price').asc(), col('freight_value').desc() ).show(5)"
   ]
  },
  {
   "cell_type": "code",
   "execution_count": null,
   "id": "3fe7477d-2db4-4163-9726-35cfe3b227c7",
   "metadata": {
    "tags": []
   },
   "outputs": [
    {
     "name": "stderr",
     "output_type": "stream",
     "text": [
      "                                                                                \r"
     ]
    },
    {
     "name": "stdout",
     "output_type": "stream",
     "text": [
      "+----+-----------+------------------+-----------------+---------+---------+\n",
      "|year|total_count|         avg_price|        sum_price|min_price|max_price|\n",
      "+----+-----------+------------------+-----------------+---------+---------+\n",
      "|2018|      62511|120.08515685240229| 7506643.24000052|     0.85|   6729.0|\n",
      "|2017|      49765|121.26732804178806|6034868.579999583|      1.2|   6735.0|\n",
      "|2020|          4|             86.49|           345.96|    69.99|    99.99|\n",
      "|2016|        370|134.55654054054082| 49785.9200000001|      6.0|   1399.0|\n",
      "+----+-----------+------------------+-----------------+---------+---------+\n",
      "\n"
     ]
    },
    {
     "name": "stderr",
     "output_type": "stream",
     "text": [
      "[Stage 56:=============================>                            (1 + 1) / 2]\r"
     ]
    },
    {
     "name": "stdout",
     "output_type": "stream",
     "text": [
      "+----+-----+-----------+------------------+------------------+---------+---------+\n",
      "|year|month|total_count|         avg_price|         sum_price|min_price|max_price|\n",
      "+----+-----+-----------+------------------+------------------+---------+---------+\n",
      "|2016|    9|          4|           48.6175|            194.47|    44.99|     59.5|\n",
      "|2016|   10|        365|135.83712328767152|49580.550000000105|      6.0|   1399.0|\n",
      "|2016|   12|          1|              10.9|              10.9|     10.9|     10.9|\n",
      "|2017|    1|        681|117.65747430249674| 80124.74000000028|      2.9|   1999.0|\n",
      "|2017|    2|       1866|131.82315648445825|245982.00999999908|      3.9|   6735.0|\n",
      "|2017|    3|       2751| 124.7701199563779| 343242.5999999956|      4.9|   3999.9|\n",
      "|2017|    4|       2364| 130.3503891708958| 308148.3199999977|      4.9|   4799.0|\n",
      "|2017|    5|       4150| 121.8446891566257| 505655.4599999967|      3.5|   4690.0|\n",
      "|2017|    6|       3801|123.38885819521052|469001.04999999516|     3.49|   6499.0|\n",
      "|2017|    7|       4116|113.04229834790911| 465282.0999999939|      1.2|  2999.89|\n",
      "|2017|    8|       5042|111.08554938516394| 560093.3399999966|      3.9|   2649.0|\n",
      "|2017|    9|       4724|130.61941574936472|  617046.119999999|     2.29|   1798.0|\n",
      "|2017|   10|       5189|126.81060512622834| 658020.2299999988|      4.5|  2999.99|\n",
      "|2017|   11|       7355|120.10219306594301| 883351.6300000108|     3.85|   2990.0|\n",
      "|2017|   12|       7726|116.35011390111417| 898920.9800000081|      4.4|   3124.0|\n",
      "|2018|    1|       7492|112.82423651895472| 845279.1800000088|     4.78|   2110.0|\n",
      "|2018|    2|       7375|111.08187796610255| 819228.8500000064|     2.99|   3690.0|\n",
      "|2018|    3|       8759|117.65359515926707|1030527.8400000202|      4.5|   3700.0|\n",
      "|2018|    4|       7637|125.53747544847617| 958729.7000000125|     4.99|  4099.99|\n",
      "|2018|    5|       8765| 123.7146092413026|1084358.5500000173|     0.85|   3930.0|\n",
      "+----+-----+-----------+------------------+------------------+---------+---------+\n",
      "only showing top 20 rows\n",
      "\n"
     ]
    },
    {
     "name": "stderr",
     "output_type": "stream",
     "text": [
      "                                                                                \r"
     ]
    }
   ],
   "source": [
    "# Group By Operation\n",
    "\n",
    "# on single column\n",
    "df3.groupBy('year').agg( count('*').alias('total_count'),\n",
    "                         avg('price').alias('avg_price'),\n",
    "                         sum('price').alias('sum_price'),\n",
    "                         min('price').alias('min_price'),\n",
    "                         max('price').alias('max_price')\n",
    "                       ).show(5)\n",
    "\n",
    "# on multiple column\n",
    "df3.groupBy('year', 'month').agg( count('*').alias('total_count'),\n",
    "                                 avg('price').alias('avg_price'),\n",
    "                                 sum('price').alias('sum_price'),\n",
    "                                 min('price').alias('min_price'),\n",
    "                                 max('price').alias('max_price')\n",
    "                               ).orderBy( col('year').asc(), col('month').asc() ).show(20)"
   ]
  },
  {
   "cell_type": "code",
   "execution_count": null,
   "id": "f1e1558f-a402-4a40-8bcb-ca22b3e9bf3c",
   "metadata": {
    "tags": []
   },
   "outputs": [
    {
     "name": "stderr",
     "output_type": "stream",
     "text": [
      "[Stage 60:=============================>                            (1 + 1) / 2]\r"
     ]
    },
    {
     "name": "stdout",
     "output_type": "stream",
     "text": [
      "13591643.70000748\n"
     ]
    },
    {
     "name": "stderr",
     "output_type": "stream",
     "text": [
      "                                                                                \r"
     ]
    }
   ],
   "source": [
    "accum=spark.sparkContext.accumulator(0)\n",
    "\n",
    "df3.foreach( lambda row: accum.add(row['price']) )\n",
    "\n",
    "print(accum.value) #Accessed by driver"
   ]
  },
  {
   "cell_type": "code",
   "execution_count": null,
   "id": "f181ae87-38ec-4df6-b325-1846b72fa072",
   "metadata": {
    "tags": []
   },
   "outputs": [
    {
     "name": "stderr",
     "output_type": "stream",
     "text": [
      "[Stage 61:>                                                         (0 + 1) / 1]\r"
     ]
    },
    {
     "name": "stdout",
     "output_type": "stream",
     "text": [
      "+--------------------+-------------+--------------------+--------------------+-----------------------+-----+-------------+----+-----+--------------+\n",
      "|            order_id|order_item_id|          product_id|           seller_id|shipping_limit_datetime|price|freight_value|year|month|price_category|\n",
      "+--------------------+-------------+--------------------+--------------------+-----------------------+-----+-------------+----+-----+--------------+\n",
      "|00010242fe8c5a6d1...|            1|4244733e06e7ecb49...|48436dade18ac8b2b...|    2017-09-19 09:45:35| 58.9|        13.29|2017|    9|        Medium|\n",
      "|00018f77f2f0320c5...|            1|e5f2d52b802189ee6...|dd7ddc04e1b6c2c61...|    2017-05-03 11:05:13|239.9|        19.93|2017|    5|          High|\n",
      "|000229ec398224ef6...|            1|c777355d18b72b67a...|5b51032eddd242adc...|    2018-01-18 14:48:30|199.0|        17.87|2018|    1|          High|\n",
      "|00024acbcdf0a6daa...|            1|7634da152a4610f15...|9d7a1d34a50524090...|    2018-08-15 10:10:18|12.99|        12.79|2018|    8|           Low|\n",
      "|00042b26cf59d7ce6...|            1|ac6c3623068f30de0...|df560393f3a51e745...|    2017-02-13 13:57:51|199.9|        18.14|2017|    2|          High|\n",
      "+--------------------+-------------+--------------------+--------------------+-----------------------+-----+-------------+----+-----+--------------+\n",
      "only showing top 5 rows\n",
      "\n"
     ]
    },
    {
     "name": "stderr",
     "output_type": "stream",
     "text": [
      "                                                                                \r"
     ]
    }
   ],
   "source": [
    "# Case-When statement\n",
    "\n",
    "df3.withColumn(\"price_category\", when( col('price') >= 100 , \"High\" )\n",
    "                                .when( (col('price') < 100) & (col('price') >= 50) , \"Medium\" )\n",
    "                                .otherwise(\"Low\")).show(5)\n",
    "                               "
   ]
  },
  {
   "cell_type": "code",
   "execution_count": null,
   "id": "168f5aa2-906e-4a35-b114-331b5972797c",
   "metadata": {
    "tags": []
   },
   "outputs": [
    {
     "name": "stderr",
     "output_type": "stream",
     "text": [
      "                                                                                \r"
     ]
    },
    {
     "name": "stdout",
     "output_type": "stream",
     "text": [
      "+--------------------+-------------+--------------------+--------------------+-----------------------+-----+-------------+----+-----+----------+\n",
      "|            order_id|order_item_id|          product_id|           seller_id|shipping_limit_datetime|price|freight_value|year|month|dense_rank|\n",
      "+--------------------+-------------+--------------------+--------------------+-----------------------+-----+-------------+----+-----+----------+\n",
      "|3ee6513ae7ea23bdf...|            1|8a3254bee785a526d...|96804ea39d96eb908...|    2018-05-04 03:55:26| 0.85|        18.23|2018|    5|         1|\n",
      "|6e864b3f0ec710311...|            1|8a3254bee785a526d...|96804ea39d96eb908...|    2018-05-02 20:30:34| 0.85|        18.23|2018|    5|         1|\n",
      "|c5bdd8ef3c0ec4202...|            2|8a3254bee785a526d...|96804ea39d96eb908...|    2018-05-07 02:55:22| 0.85|         22.3|2018|    5|         1|\n",
      "|f1d5c2e6867fa93ce...|            1|46fce52cef5caa7cc...|2d2322d8421188677...|    2018-08-28 21:30:15|  2.2|         7.39|2018|    8|         2|\n",
      "|de03f4f4bb610147a...|            1|2e8316b31db34314f...|9d7a1d34a50524090...|    2018-02-08 00:55:32| 2.99|        11.85|2018|    2|         3|\n",
      "+--------------------+-------------+--------------------+--------------------+-----------------------+-----+-------------+----+-----+----------+\n",
      "only showing top 5 rows\n",
      "\n"
     ]
    },
    {
     "name": "stderr",
     "output_type": "stream",
     "text": [
      "[Stage 70:>                                                         (0 + 1) / 1]\r"
     ]
    },
    {
     "name": "stdout",
     "output_type": "stream",
     "text": [
      "+----+-----+-----------------------+------------------+\n",
      "|year|price|shipping_limit_datetime|       running_sum|\n",
      "+----+-----+-----------------------+------------------+\n",
      "|2016| 59.5|    2016-09-19 00:15:34|              59.5|\n",
      "|2016|44.99|    2016-09-19 23:11:33|194.47000000000003|\n",
      "|2016|44.99|    2016-09-19 23:11:33|194.47000000000003|\n",
      "|2016|44.99|    2016-09-19 23:11:33|194.47000000000003|\n",
      "|2016|29.99|    2016-10-08 10:34:01|224.46000000000004|\n",
      "+----+-----+-----------------------+------------------+\n",
      "only showing top 5 rows\n",
      "\n"
     ]
    },
    {
     "name": "stderr",
     "output_type": "stream",
     "text": [
      "                                                                                \r"
     ]
    }
   ],
   "source": [
    "# Window functions\n",
    "\n",
    "from pyspark.sql.window import Window\n",
    "\n",
    "windowSpec1 = Window.partitionBy('year').orderBy( col('price').asc())\n",
    "\n",
    "df3.withColumn(\"dense_rank\" , dense_rank().over(windowSpec1) ).show(5)\n",
    "\n",
    "windowSpec2 = Window.partitionBy('year').orderBy(col('shipping_limit_datetime').asc())\n",
    "\n",
    "df3.withColumn('running_sum', sum('price').over(windowSpec2)).select('year','price','shipping_limit_datetime','running_sum').show(5)"
   ]
  },
  {
   "cell_type": "code",
   "execution_count": 39,
   "id": "b1a88e65-9be1-480b-88f0-209180df8ca5",
   "metadata": {
    "tags": []
   },
   "outputs": [
    {
     "name": "stderr",
     "output_type": "stream",
     "text": [
      "                                                                                \r"
     ]
    },
    {
     "name": "stdout",
     "output_type": "stream",
     "text": [
      "root\n",
      " |-- seller_id: string (nullable = true)\n",
      " |-- seller_zip_code_prefix: integer (nullable = true)\n",
      " |-- seller_city: string (nullable = true)\n",
      " |-- seller_state: string (nullable = true)\n",
      "\n",
      "+--------------------+----------------------+-----------------+------------+\n",
      "|           seller_id|seller_zip_code_prefix|      seller_city|seller_state|\n",
      "+--------------------+----------------------+-----------------+------------+\n",
      "|3442f8959a84dea7e...|                 13023|         campinas|          SP|\n",
      "|d1b65fc7debc3361e...|                 13844|       mogi guacu|          SP|\n",
      "|ce3ad9de960102d06...|                 20031|   rio de janeiro|          RJ|\n",
      "|c0f3eea2e14555b6f...|                  4195|        sao paulo|          SP|\n",
      "|51a04a8a6bdcb23de...|                 12914|braganca paulista|          SP|\n",
      "+--------------------+----------------------+-----------------+------------+\n",
      "only showing top 5 rows\n",
      "\n"
     ]
    }
   ],
   "source": [
    "hdfs_path = '/tmp/spark_datasets/sellers_dataset.csv'\n",
    "\n",
    "sdf = spark.read.format('csv').option('header', 'true').option('inferSchema', 'true').load(hdfs_path)\n",
    "\n",
    "sdf.printSchema()\n",
    "sdf.show(5)"
   ]
  },
  {
   "cell_type": "code",
   "execution_count": null,
   "id": "a664fefb-6c55-4868-8466-6addca3366b7",
   "metadata": {
    "tags": []
   },
   "outputs": [
    {
     "name": "stdout",
     "output_type": "stream",
     "text": [
      "root\n",
      " |-- order_id: string (nullable = true)\n",
      " |-- order_item_id: integer (nullable = true)\n",
      " |-- product_id: string (nullable = true)\n",
      " |-- seller_id: string (nullable = true)\n",
      " |-- shipping_limit_datetime: timestamp (nullable = true)\n",
      " |-- price: double (nullable = true)\n",
      " |-- freight_value: double (nullable = true)\n",
      " |-- year: integer (nullable = true)\n",
      " |-- month: integer (nullable = true)\n",
      " |-- seller_zip_code_prefix: integer (nullable = true)\n",
      " |-- seller_city: string (nullable = true)\n",
      " |-- seller_state: string (nullable = true)\n",
      "\n",
      "+--------------------+-------------+--------------------+--------------------+-----------------------+-----+-------------+----+-----+----------------------+-------------+------------+\n",
      "|            order_id|order_item_id|          product_id|           seller_id|shipping_limit_datetime|price|freight_value|year|month|seller_zip_code_prefix|  seller_city|seller_state|\n",
      "+--------------------+-------------+--------------------+--------------------+-----------------------+-----+-------------+----+-----+----------------------+-------------+------------+\n",
      "|00010242fe8c5a6d1...|            1|4244733e06e7ecb49...|48436dade18ac8b2b...|    2017-09-19 09:45:35| 58.9|        13.29|2017|    9|                 27277|volta redonda|          SP|\n",
      "|00018f77f2f0320c5...|            1|e5f2d52b802189ee6...|dd7ddc04e1b6c2c61...|    2017-05-03 11:05:13|239.9|        19.93|2017|    5|                  3471|    sao paulo|          SP|\n",
      "|000229ec398224ef6...|            1|c777355d18b72b67a...|5b51032eddd242adc...|    2018-01-18 14:48:30|199.0|        17.87|2018|    1|                 37564|borda da mata|          MG|\n",
      "|00024acbcdf0a6daa...|            1|7634da152a4610f15...|9d7a1d34a50524090...|    2018-08-15 10:10:18|12.99|        12.79|2018|    8|                 14403|       franca|          SP|\n",
      "|00042b26cf59d7ce6...|            1|ac6c3623068f30de0...|df560393f3a51e745...|    2017-02-13 13:57:51|199.9|        18.14|2017|    2|                 87900|       loanda|          PR|\n",
      "+--------------------+-------------+--------------------+--------------------+-----------------------+-----+-------------+----+-----+----------------------+-------------+------------+\n",
      "only showing top 5 rows\n",
      "\n"
     ]
    }
   ],
   "source": [
    "# Join transformation\n",
    "\n",
    "result1 = df3.join(broadcast(sdf), df3.seller_id == sdf.seller_id  , 'inner').drop(sdf.seller_id)\n",
    "\n",
    "# df3.join(broadcast(sdf), df3.seller_id == sdf.seller_id  , 'inner').join(paydf, cond, 'left')\n",
    "\n",
    "# result2 = result1.join(paydf, cond, 'left')\n",
    "\n",
    "result1.printSchema()\n",
    "result1.show(5)\n"
   ]
  },
  {
   "cell_type": "code",
   "execution_count": null,
   "id": "5f15c46f-7649-4281-936b-10b90a5cb9e1",
   "metadata": {
    "tags": []
   },
   "outputs": [
    {
     "name": "stdout",
     "output_type": "stream",
     "text": [
      "root\n",
      " |-- order_id: string (nullable = true)\n",
      " |-- order_item_id: integer (nullable = true)\n",
      " |-- product_id: string (nullable = true)\n",
      " |-- seller_id: string (nullable = true)\n",
      " |-- shipping_limit_datetime: timestamp (nullable = true)\n",
      " |-- price: double (nullable = true)\n",
      " |-- freight_value: double (nullable = true)\n",
      " |-- year: integer (nullable = true)\n",
      " |-- month: integer (nullable = true)\n",
      " |-- seller_zip_code_prefix: integer (nullable = true)\n",
      " |-- seller_city: string (nullable = true)\n",
      " |-- seller_state: string (nullable = true)\n",
      "\n",
      "+--------------------+-------------+--------------------+--------------------+-----------------------+-----+-------------+----+-----+----------------------+-------------+------------+\n",
      "|            order_id|order_item_id|          product_id|           seller_id|shipping_limit_datetime|price|freight_value|year|month|seller_zip_code_prefix|  seller_city|seller_state|\n",
      "+--------------------+-------------+--------------------+--------------------+-----------------------+-----+-------------+----+-----+----------------------+-------------+------------+\n",
      "|00010242fe8c5a6d1...|            1|4244733e06e7ecb49...|48436dade18ac8b2b...|    2017-09-19 09:45:35| 58.9|        13.29|2017|    9|                 27277|volta redonda|          SP|\n",
      "|00018f77f2f0320c5...|            1|e5f2d52b802189ee6...|dd7ddc04e1b6c2c61...|    2017-05-03 11:05:13|239.9|        19.93|2017|    5|                  3471|    sao paulo|          SP|\n",
      "|000229ec398224ef6...|            1|c777355d18b72b67a...|5b51032eddd242adc...|    2018-01-18 14:48:30|199.0|        17.87|2018|    1|                 37564|borda da mata|          MG|\n",
      "|00024acbcdf0a6daa...|            1|7634da152a4610f15...|9d7a1d34a50524090...|    2018-08-15 10:10:18|12.99|        12.79|2018|    8|                 14403|       franca|          SP|\n",
      "|00042b26cf59d7ce6...|            1|ac6c3623068f30de0...|df560393f3a51e745...|    2017-02-13 13:57:51|199.9|        18.14|2017|    2|                 87900|       loanda|          PR|\n",
      "+--------------------+-------------+--------------------+--------------------+-----------------------+-----+-------------+----+-----+----------------------+-------------+------------+\n",
      "only showing top 5 rows\n",
      "\n"
     ]
    }
   ],
   "source": [
    "# Perform join with alias names of dataframes\n",
    "\n",
    "result2 = df3.alias('oid').join(sdf.alias('sid'), col('oid.seller_id') == col('sid.seller_id') , 'inner').drop(col('sid.seller_id'))\n",
    "\n",
    "\n",
    "result2.printSchema()\n",
    "result2.show(5)"
   ]
  },
  {
   "cell_type": "code",
   "execution_count": null,
   "id": "dc5948a9-7051-42bf-a748-9f5bec15c5fc",
   "metadata": {
    "tags": []
   },
   "outputs": [
    {
     "name": "stdout",
     "output_type": "stream",
     "text": [
      "root\n",
      " |-- order_id: string (nullable = true)\n",
      " |-- order_item_id: integer (nullable = true)\n",
      " |-- product_id: string (nullable = true)\n",
      " |-- seller_id: string (nullable = true)\n",
      " |-- shipping_limit_datetime: timestamp (nullable = true)\n",
      " |-- price: double (nullable = true)\n",
      " |-- freight_value: double (nullable = true)\n",
      " |-- year: integer (nullable = true)\n",
      " |-- month: integer (nullable = true)\n",
      " |-- seller_id: string (nullable = true)\n",
      " |-- seller_zip_code_prefix: integer (nullable = true)\n",
      " |-- seller_city: string (nullable = true)\n",
      " |-- seller_state: string (nullable = true)\n",
      "\n",
      "+--------------------+-------------+--------------------+--------------------+-----------------------+-----+-------------+----+-----+--------------------+----------------------+-------------+------------+\n",
      "|            order_id|order_item_id|          product_id|           seller_id|shipping_limit_datetime|price|freight_value|year|month|           seller_id|seller_zip_code_prefix|  seller_city|seller_state|\n",
      "+--------------------+-------------+--------------------+--------------------+-----------------------+-----+-------------+----+-----+--------------------+----------------------+-------------+------------+\n",
      "|00010242fe8c5a6d1...|            1|4244733e06e7ecb49...|48436dade18ac8b2b...|    2017-09-19 09:45:35| 58.9|        13.29|2017|    9|48436dade18ac8b2b...|                 27277|volta redonda|          SP|\n",
      "|00018f77f2f0320c5...|            1|e5f2d52b802189ee6...|dd7ddc04e1b6c2c61...|    2017-05-03 11:05:13|239.9|        19.93|2017|    5|dd7ddc04e1b6c2c61...|                  3471|    sao paulo|          SP|\n",
      "|000229ec398224ef6...|            1|c777355d18b72b67a...|5b51032eddd242adc...|    2018-01-18 14:48:30|199.0|        17.87|2018|    1|5b51032eddd242adc...|                 37564|borda da mata|          MG|\n",
      "|00024acbcdf0a6daa...|            1|7634da152a4610f15...|9d7a1d34a50524090...|    2018-08-15 10:10:18|12.99|        12.79|2018|    8|9d7a1d34a50524090...|                 14403|       franca|          SP|\n",
      "|00042b26cf59d7ce6...|            1|ac6c3623068f30de0...|df560393f3a51e745...|    2017-02-13 13:57:51|199.9|        18.14|2017|    2|df560393f3a51e745...|                 87900|       loanda|          PR|\n",
      "+--------------------+-------------+--------------------+--------------------+-----------------------+-----+-------------+----+-----+--------------------+----------------------+-------------+------------+\n",
      "only showing top 5 rows\n",
      "\n"
     ]
    }
   ],
   "source": [
    "# work with spark SQL\n",
    "\n",
    "df3.createOrReplaceTempView(\"ORDER_ITEM\")\n",
    "sdf.createOrReplaceTempView(\"SELLERS\")\n",
    "\n",
    "joinedDF = spark.sql(\"select * from ORDER_ITEM oid INNER JOIN SELLERS sid ON oid.seller_id == sid.seller_id\")\n",
    "\n",
    "joinedDF.printSchema()\n",
    "\n",
    "joinedDF.show(5)\n",
    "\n"
   ]
  },
  {
   "cell_type": "code",
   "execution_count": null,
   "id": "3c699877-9197-4371-bb09-abaeaee872f2",
   "metadata": {
    "tags": []
   },
   "outputs": [
    {
     "name": "stderr",
     "output_type": "stream",
     "text": [
      "[Stage 89:=============================>                            (1 + 1) / 2]\r"
     ]
    },
    {
     "name": "stdout",
     "output_type": "stream",
     "text": [
      "Write Successfull\n"
     ]
    },
    {
     "name": "stderr",
     "output_type": "stream",
     "text": [
      "                                                                                \r"
     ]
    }
   ],
   "source": [
    "# Write data in HDFS without any partition key\n",
    "\n",
    "result1.write \\\n",
    "    .format('csv') \\\n",
    "    .mode('overwrite') \\\n",
    "    .option('header', 'true') \\\n",
    "    .option('delimiter', ',') \\\n",
    "    .save('/tmp/spark_output/result1')\n",
    "\n",
    "print(\"Write Successfull\")"
   ]
  },
  {
   "cell_type": "code",
   "execution_count": null,
   "id": "fc28157d-e5a0-42ba-be11-6de3382b397b",
   "metadata": {
    "tags": []
   },
   "outputs": [
    {
     "name": "stderr",
     "output_type": "stream",
     "text": [
      "[Stage 91:=============================>                            (1 + 1) / 2]\r"
     ]
    },
    {
     "name": "stdout",
     "output_type": "stream",
     "text": [
      "Write Successfull\n"
     ]
    },
    {
     "name": "stderr",
     "output_type": "stream",
     "text": [
      "                                                                                \r"
     ]
    }
   ],
   "source": [
    "# Write data in parquet format in HDFS without any partition key\n",
    "\n",
    "result1.write \\\n",
    "    .format('parquet') \\\n",
    "    .mode('overwrite') \\\n",
    "    .save('/tmp/spark_output/result_pq')\n",
    "\n",
    "print(\"Write Successfull\")"
   ]
  },
  {
   "cell_type": "code",
   "execution_count": null,
   "id": "7feab2d8-d527-4ce8-86da-88d2a095ba7e",
   "metadata": {
    "tags": []
   },
   "outputs": [
    {
     "name": "stderr",
     "output_type": "stream",
     "text": [
      "[Stage 93:=============================>                            (1 + 1) / 2]\r"
     ]
    },
    {
     "name": "stdout",
     "output_type": "stream",
     "text": [
      "Write Successfull\n"
     ]
    },
    {
     "name": "stderr",
     "output_type": "stream",
     "text": [
      "                                                                                \r"
     ]
    }
   ],
   "source": [
    "# Write data in HDFS with partition key\n",
    "\n",
    "result1.write.mode('overwrite').partitionBy('year').format('csv').option('header', 'true').option('delimiter', ',').save('/tmp/spark_output/result2')\n",
    "print(\"Write Successfull\")\n",
    "\n"
   ]
  },
  {
   "cell_type": "code",
   "execution_count": null,
   "id": "2bb68785-0ebf-4d90-bff6-26bf44e61a05",
   "metadata": {
    "tags": []
   },
   "outputs": [
    {
     "name": "stderr",
     "output_type": "stream",
     "text": [
      "[Stage 95:>                                                         (0 + 1) / 1]\r"
     ]
    },
    {
     "name": "stdout",
     "output_type": "stream",
     "text": [
      "Write Successfull\n"
     ]
    },
    {
     "name": "stderr",
     "output_type": "stream",
     "text": [
      "                                                                                \r"
     ]
    }
   ],
   "source": [
    "# Write data in HDFS into single file\n",
    "\n",
    "result1.coalesce(1).write.mode('overwrite').format('csv').option('header', 'true').option('delimiter', ',').save('/tmp/spark_output/result3/')\n",
    "\n",
    "print(\"Write Successfull\")"
   ]
  },
  {
   "cell_type": "code",
   "execution_count": null,
   "id": "ed15f451-77a3-47ca-aaab-d5d4e45182c7",
   "metadata": {
    "tags": []
   },
   "outputs": [
    {
     "name": "stdout",
     "output_type": "stream",
     "text": [
      "Original Schema :\n",
      "root\n",
      " |-- address: struct (nullable = true)\n",
      " |    |-- city: string (nullable = true)\n",
      " |    |-- street: string (nullable = true)\n",
      " |    |-- zip: string (nullable = true)\n",
      " |-- name: string (nullable = true)\n",
      " |-- purchases: array (nullable = true)\n",
      " |    |-- element: struct (containsNull = true)\n",
      " |    |    |-- items: array (nullable = true)\n",
      " |    |    |    |-- element: struct (containsNull = true)\n",
      " |    |    |    |    |-- item_name: string (nullable = true)\n",
      " |    |    |    |    |-- price: double (nullable = true)\n",
      " |    |    |-- order_date: string (nullable = true)\n",
      " |    |    |-- order_id: string (nullable = true)\n",
      " |-- registration_date: string (nullable = true)\n",
      " |-- user_id: string (nullable = true)\n",
      "\n",
      "+--------------------+-----------+--------------------+-----------------+-------+\n",
      "|             address|       name|           purchases|registration_date|user_id|\n",
      "+--------------------+-----------+--------------------+-----------------+-------+\n",
      "|{Chicago, 311 Exa...|User Name 1|[{[{Hash Browns, ...|       2022-09-24| user_1|\n",
      "|{Chicago, 483 Exa...|User Name 2|[{[{McFlurry, 1.7...|       2023-07-26| user_2|\n",
      "|{New York, 946 Ex...|User Name 3|[{[{McFlurry, 14....|       2022-04-11| user_3|\n",
      "|{Chicago, 337 Exa...|User Name 4|[{[{Hash Browns, ...|       2022-10-05| user_4|\n",
      "|{New York, 749 Ex...|User Name 5|[{[{Hash Browns, ...|       2023-10-02| user_5|\n",
      "+--------------------+-----------+--------------------+-----------------+-------+\n",
      "only showing top 5 rows\n",
      "\n",
      "Exploded Schema:\n",
      "root\n",
      " |-- user_id: string (nullable = true)\n",
      " |-- name: string (nullable = true)\n",
      " |-- address: struct (nullable = true)\n",
      " |    |-- city: string (nullable = true)\n",
      " |    |-- street: string (nullable = true)\n",
      " |    |-- zip: string (nullable = true)\n",
      " |-- purchase: struct (nullable = true)\n",
      " |    |-- items: array (nullable = true)\n",
      " |    |    |-- element: struct (containsNull = true)\n",
      " |    |    |    |-- item_name: string (nullable = true)\n",
      " |    |    |    |-- price: double (nullable = true)\n",
      " |    |-- order_date: string (nullable = true)\n",
      " |    |-- order_id: string (nullable = true)\n",
      "\n",
      "+-------+-----------+--------------------+--------------------+\n",
      "|user_id|       name|             address|            purchase|\n",
      "+-------+-----------+--------------------+--------------------+\n",
      "| user_1|User Name 1|{Chicago, 311 Exa...|{[{Hash Browns, 1...|\n",
      "| user_2|User Name 2|{Chicago, 483 Exa...|{[{McFlurry, 1.76...|\n",
      "| user_2|User Name 2|{Chicago, 483 Exa...|{[{French Fries, ...|\n",
      "| user_3|User Name 3|{New York, 946 Ex...|{[{McFlurry, 14.0...|\n",
      "| user_4|User Name 4|{Chicago, 337 Exa...|{[{Hash Browns, 1...|\n",
      "+-------+-----------+--------------------+--------------------+\n",
      "only showing top 5 rows\n",
      "\n",
      "Fully Exploded Data:\n",
      "+-------+-----------+---------------------------------+---------+----------+-----------------------+\n",
      "|user_id|name       |address                          |order_id |order_date|item                   |\n",
      "+-------+-----------+---------------------------------+---------+----------+-----------------------+\n",
      "|user_1 |User Name 1|{Chicago, 311 Example St, 14207} |order_1_1|2024-04-11|{Hash Browns, 19.77}   |\n",
      "|user_1 |User Name 1|{Chicago, 311 Example St, 14207} |order_1_1|2024-04-11|{Quarter Pounder, 4.91}|\n",
      "|user_1 |User Name 1|{Chicago, 311 Example St, 14207} |order_1_1|2024-04-11|{Egg McMuffin, 13.34}  |\n",
      "|user_1 |User Name 1|{Chicago, 311 Example St, 14207} |order_1_1|2024-04-11|{McFlurry, 4.54}       |\n",
      "|user_2 |User Name 2|{Chicago, 483 Example St, 45719} |order_2_1|2024-04-16|{McFlurry, 1.76}       |\n",
      "|user_2 |User Name 2|{Chicago, 483 Example St, 45719} |order_2_1|2024-04-16|{McFlurry, 1.61}       |\n",
      "|user_2 |User Name 2|{Chicago, 483 Example St, 45719} |order_2_1|2024-04-16|{Hash Browns, 19.67}   |\n",
      "|user_2 |User Name 2|{Chicago, 483 Example St, 45719} |order_2_1|2024-04-16|{McFlurry, 14.57}      |\n",
      "|user_2 |User Name 2|{Chicago, 483 Example St, 45719} |order_2_2|2024-06-16|{French Fries, 17.32}  |\n",
      "|user_2 |User Name 2|{Chicago, 483 Example St, 45719} |order_2_2|2024-06-16|{Quarter Pounder, 7.48}|\n",
      "|user_2 |User Name 2|{Chicago, 483 Example St, 45719} |order_2_2|2024-06-16|{Filet-O-Fish, 17.64}  |\n",
      "|user_2 |User Name 2|{Chicago, 483 Example St, 45719} |order_2_2|2024-06-16|{Filet-O-Fish, 15.87}  |\n",
      "|user_3 |User Name 3|{New York, 946 Example St, 42380}|order_3_1|2024-09-02|{McFlurry, 14.08}      |\n",
      "|user_3 |User Name 3|{New York, 946 Example St, 42380}|order_3_1|2024-09-02|{Hash Browns, 7.92}    |\n",
      "|user_3 |User Name 3|{New York, 946 Example St, 42380}|order_3_1|2024-09-02|{French Fries, 7.81}   |\n",
      "|user_4 |User Name 4|{Chicago, 337 Example St, 89356} |order_4_1|2024-01-18|{Hash Browns, 16.13}   |\n",
      "|user_4 |User Name 4|{Chicago, 337 Example St, 89356} |order_4_1|2024-01-18|{Hash Browns, 1.67}    |\n",
      "|user_4 |User Name 4|{Chicago, 337 Example St, 89356} |order_4_1|2024-01-18|{Filet-O-Fish, 13.27}  |\n",
      "|user_4 |User Name 4|{Chicago, 337 Example St, 89356} |order_4_1|2024-01-18|{Quarter Pounder, 14.3}|\n",
      "|user_4 |User Name 4|{Chicago, 337 Example St, 89356} |order_4_1|2024-01-18|{Big Mac, 8.67}        |\n",
      "+-------+-----------+---------------------------------+---------+----------+-----------------------+\n",
      "only showing top 20 rows\n",
      "\n"
     ]
    }
   ],
   "source": [
    "# Read json data in spark\n",
    "\n",
    "file_path = '/tmp/spark_datasets/orders_json_data.json'\n",
    "\n",
    "json_df = spark.read.json(file_path)\n",
    "\n",
    "print(\"Original Schema :\")\n",
    "json_df.printSchema()\n",
    "\n",
    "json_df.show(5)\n",
    "\n",
    "# Explode the \"purchases\" array\n",
    "purchases_df = json_df.select(\n",
    "    \"user_id\",\n",
    "    \"name\",\n",
    "    \"address\",\n",
    "    explode(col(\"purchases\")).alias(\"purchase\")\n",
    ")\n",
    "\n",
    "# Show the exploded schema\n",
    "print(\"Exploded Schema:\")\n",
    "purchases_df.printSchema()\n",
    "purchases_df.show(5)\n",
    "\n",
    "# Further explode \"items\" within each purchase\n",
    "items_df = purchases_df.select(\n",
    "    \"user_id\",\n",
    "    \"name\",\n",
    "    \"address\",\n",
    "    col(\"purchase.order_id\").alias(\"order_id\"),\n",
    "    col(\"purchase.order_date\").alias(\"order_date\"),\n",
    "    explode(col(\"purchase.items\")).alias(\"item\")\n",
    ")\n",
    "\n",
    "# Show the fully exploded DataFrame\n",
    "print(\"Fully Exploded Data:\")\n",
    "items_df.show(truncate=False)"
   ]
  }
 ],
 "metadata": {
  "kernelspec": {
   "display_name": "PySpark",
   "language": "python",
   "name": "pyspark"
  },
  "language_info": {
   "codemirror_mode": {
    "name": "ipython",
    "version": 3
   },
   "file_extension": ".py",
   "mimetype": "text/x-python",
   "name": "python",
   "nbconvert_exporter": "python",
   "pygments_lexer": "ipython3",
   "version": "3.11.8"
  }
 },
 "nbformat": 4,
 "nbformat_minor": 5
}
